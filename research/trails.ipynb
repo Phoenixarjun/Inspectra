{
 "cells": [
  {
   "cell_type": "code",
   "execution_count": 1,
   "id": "f04d6442",
   "metadata": {},
   "outputs": [
    {
     "name": "stdout",
     "output_type": "stream",
     "text": [
      "hello\n"
     ]
    }
   ],
   "source": [
    "print(\"hello\")"
   ]
  },
  {
   "cell_type": "code",
   "execution_count": 3,
   "id": "3917a60d",
   "metadata": {},
   "outputs": [],
   "source": [
    "from git import Repo\n",
    "from langchain.text_splitter import Language\n",
    "from langchain.document_loaders.generic import GenericLoader\n",
    "from langchain.document_loaders.parsers import LanguageParser\n",
    "from langchain.text_splitter import RecursiveCharacterTextSplitter\n",
    "import os\n",
    "from langchain_google_genai import GoogleGenerativeAIEmbeddings, GoogleGenerativeAI\n",
    "from langchain.vectorstores import Chroma\n",
    "from langchain.memory import ConversationSummaryMemory\n",
    "from langchain.chains import ConversationalRetrievalChain"
   ]
  },
  {
   "cell_type": "code",
   "execution_count": 4,
   "id": "160d7990",
   "metadata": {},
   "outputs": [
    {
     "data": {
      "text/plain": [
       "\"c:\\\\Arjun's Work\\\\Inspectra\\\\research\""
      ]
     },
     "execution_count": 4,
     "metadata": {},
     "output_type": "execute_result"
    }
   ],
   "source": [
    "%pwd"
   ]
  },
  {
   "cell_type": "code",
   "execution_count": 5,
   "id": "52c8213c",
   "metadata": {},
   "outputs": [],
   "source": [
    "!mkdir test-repo"
   ]
  },
  {
   "cell_type": "code",
   "execution_count": 6,
   "id": "1e6a375c",
   "metadata": {},
   "outputs": [],
   "source": [
    "path = \"test-repo/\"\n",
    "\n",
    "repo = Repo.clone_from(\"https://github.com/Phoenixarjun/Spam-Filter\", to_path=path)\n"
   ]
  },
  {
   "cell_type": "code",
   "execution_count": 7,
   "id": "983ca3fd",
   "metadata": {},
   "outputs": [],
   "source": [
    "loader = GenericLoader.from_filesystem(path, glob=\"**/*\", suffixes=[\".py\", \".txt\", \".md\"], parser=LanguageParser(Language.PYTHON, parser_threshold=0.5))"
   ]
  },
  {
   "cell_type": "code",
   "execution_count": 8,
   "id": "dd81b483",
   "metadata": {},
   "outputs": [],
   "source": [
    "documents = loader.load()"
   ]
  },
  {
   "cell_type": "code",
   "execution_count": 9,
   "id": "4858d7e5",
   "metadata": {},
   "outputs": [
    {
     "data": {
      "text/plain": [
       "8"
      ]
     },
     "execution_count": 9,
     "metadata": {},
     "output_type": "execute_result"
    }
   ],
   "source": [
    "len(documents)"
   ]
  },
  {
   "cell_type": "code",
   "execution_count": 10,
   "id": "e1ff29c3",
   "metadata": {},
   "outputs": [
    {
     "data": {
      "text/plain": [
       "[Document(metadata={'source': 'test-repo\\\\app.py', 'content_type': 'functions_classes', 'language': <Language.PYTHON: 'python'>}, page_content='def home():\\n    return render_template(\"index.html\", email=\"\", prediction=None)'),\n",
       " Document(metadata={'source': 'test-repo\\\\app.py', 'content_type': 'functions_classes', 'language': <Language.PYTHON: 'python'>}, page_content='def predict():\\n    email = request.form.get(\\'content\\')\\n    prediction = make_predictions(email)\\n    return render_template(\"index.html\", prediction=prediction, email=email)'),\n",
       " Document(metadata={'source': 'test-repo\\\\app.py', 'content_type': 'functions_classes', 'language': <Language.PYTHON: 'python'>}, page_content=\"def predict_api():\\n    data = request.get_json(force=True)\\n    email = data['content']\\n    prediction = make_predictions(email)\\n    return jsonify({'Prediction':prediction, 'Email':email})\"),\n",
       " Document(metadata={'source': 'test-repo\\\\app.py', 'content_type': 'simplified_code', 'language': <Language.PYTHON: 'python'>}, page_content='from flask import Flask, render_template, request, jsonify\\nfrom utils import make_predictions\\n\\n\\napp = Flask(__name__, static_folder=\"static\")  \\n\\n@app.route(\"/\")\\n# Code for: def home():\\n\\n@app.route(\"/predict\", methods=[\\'POST\\'])\\n# Code for: def predict():\\n\\n\\n@app.route(\"/api/predict\",methods=[\\'POST\\'])\\n# Code for: def predict_api():\\n\\n\\nif __name__ == \\'__main__\\':\\n    app.run(debug=True)'),\n",
       " Document(metadata={'source': 'test-repo\\\\README.md'}, page_content='# Spam-Filter\\nThis website will determine whether the content of an email message is spam or not.\\n'),\n",
       " Document(metadata={'source': 'test-repo\\\\requirements.txt'}, page_content='certifi==2025.1.31\\nclick==8.1.8\\ncolorama==0.4.6\\nFlask==2.2.5\\ngunicorn==23.0.0\\nimportlib-metadata==6.7.0\\nitsdangerous==2.1.2\\nJinja2==3.1.6\\njoblib==1.3.2\\nMarkupSafe==2.1.5\\nnumpy==1.22.3\\npackaging==24.0\\npickle-mixin==1.0.2\\nscikit-learn==1.0.2\\nscipy==1.7.3\\nthreadpoolctl==3.1.0\\ntyping_extensions==4.7.1\\nWerkzeug==2.2.3\\nwincertstore==0.2\\nzipp==3.15.0\\n'),\n",
       " Document(metadata={'source': 'test-repo\\\\utils.py', 'content_type': 'functions_classes', 'language': <Language.PYTHON: 'python'>}, page_content='def make_predictions(email):\\n    tokenized_email = cv.transform([email])\\n    prediction = clf.predict(tokenized_email)\\n    prediction = 1 if prediction == 1 else -1\\n    return prediction'),\n",
       " Document(metadata={'source': 'test-repo\\\\utils.py', 'content_type': 'simplified_code', 'language': <Language.PYTHON: 'python'>}, page_content='import pickle\\n\\ncv = pickle.load(open(\"models/cv.pkl\", \"rb\"))\\nclf = pickle.load(open(\"models/clf.pkl\", \"rb\"))\\n\\n\\n# Code for: def make_predictions(email):')]"
      ]
     },
     "execution_count": 10,
     "metadata": {},
     "output_type": "execute_result"
    }
   ],
   "source": [
    "documents"
   ]
  },
  {
   "cell_type": "code",
   "execution_count": 11,
   "id": "6224f62a",
   "metadata": {},
   "outputs": [],
   "source": [
    "document_splitter = RecursiveCharacterTextSplitter.from_language(language=Language.PYTHON, chunk_size=500, chunk_overlap=20)"
   ]
  },
  {
   "cell_type": "code",
   "execution_count": 12,
   "id": "687e99a9",
   "metadata": {},
   "outputs": [
    {
     "data": {
      "text/plain": [
       "8"
      ]
     },
     "execution_count": 12,
     "metadata": {},
     "output_type": "execute_result"
    }
   ],
   "source": [
    "texts = document_splitter.split_documents(documents)\n",
    "len(texts)"
   ]
  },
  {
   "cell_type": "code",
   "execution_count": 13,
   "id": "7e45340a",
   "metadata": {},
   "outputs": [],
   "source": [
    "from dotenv import load_dotenv\n",
    "load_dotenv()\n",
    "\n",
    "GOOGLE_API_KEY = os.getenv(\"GOOGLE_API_KEY\")"
   ]
  },
  {
   "cell_type": "code",
   "execution_count": 14,
   "id": "23258621",
   "metadata": {},
   "outputs": [],
   "source": [
    "os.environ[\"GOOGLE_API_KEY\"] = GOOGLE_API_KEY"
   ]
  },
  {
   "cell_type": "code",
   "execution_count": 15,
   "id": "a0510a90",
   "metadata": {},
   "outputs": [],
   "source": [
    "embeddings = GoogleGenerativeAIEmbeddings(\n",
    "        model=\"models/embedding-001\", google_api_key=GOOGLE_API_KEY\n",
    "    )"
   ]
  },
  {
   "cell_type": "code",
   "execution_count": 17,
   "id": "ebc02494",
   "metadata": {},
   "outputs": [],
   "source": [
    "vectordb = Chroma.from_documents(\n",
    "    texts,\n",
    "    embeddings,\n",
    "    persist_directory=\"./db\",\n",
    ")"
   ]
  },
  {
   "cell_type": "code",
   "execution_count": 18,
   "id": "7141cf05",
   "metadata": {},
   "outputs": [
    {
     "name": "stderr",
     "output_type": "stream",
     "text": [
      "C:\\Users\\phoen\\AppData\\Local\\Temp\\ipykernel_29572\\3711397106.py:1: LangChainDeprecationWarning: Since Chroma 0.4.x the manual persistence method is no longer supported as docs are automatically persisted.\n",
      "  vectordb.persist()\n"
     ]
    }
   ],
   "source": [
    "vectordb.persist()"
   ]
  },
  {
   "cell_type": "code",
   "execution_count": 21,
   "id": "08130ade",
   "metadata": {},
   "outputs": [],
   "source": [
    "llm = GoogleGenerativeAI(model=\"gemini-1.5-pro\", google_api_key=GOOGLE_API_KEY, temperature=0.5)"
   ]
  },
  {
   "cell_type": "code",
   "execution_count": 22,
   "id": "3c817b45",
   "metadata": {},
   "outputs": [
    {
     "name": "stderr",
     "output_type": "stream",
     "text": [
      "C:\\Users\\phoen\\AppData\\Local\\Temp\\ipykernel_29572\\1764516168.py:1: LangChainDeprecationWarning: Please see the migration guide at: https://python.langchain.com/docs/versions/migrating_memory/\n",
      "  memory = ConversationSummaryMemory(llm=llm, memory_key=\"chat_history\", return_messages=True)\n"
     ]
    }
   ],
   "source": [
    "memory = ConversationSummaryMemory(llm=llm, memory_key=\"chat_history\", return_messages=True)"
   ]
  },
  {
   "cell_type": "code",
   "execution_count": 23,
   "id": "a00c5c72",
   "metadata": {},
   "outputs": [],
   "source": [
    "qa = ConversationalRetrievalChain.from_llm(llm, retriever=vectordb.as_retriever(search_type=\"mmr\", search_kwargs={\"k\":8}), memory=memory)"
   ]
  },
  {
   "cell_type": "code",
   "execution_count": 24,
   "id": "40e4f342",
   "metadata": {},
   "outputs": [
    {
     "name": "stderr",
     "output_type": "stream",
     "text": [
      "C:\\Users\\phoen\\AppData\\Local\\Temp\\ipykernel_29572\\1580042990.py:2: LangChainDeprecationWarning: The method `Chain.__call__` was deprecated in langchain 0.1.0 and will be removed in 1.0. Use :meth:`~invoke` instead.\n",
      "  result = qa({\"question\": question})\n"
     ]
    }
   ],
   "source": [
    "question = \"What is the purpose of the SpamFilter class?\"\n",
    "result = qa({\"question\": question})"
   ]
  },
  {
   "cell_type": "code",
   "execution_count": 25,
   "id": "203d64d8",
   "metadata": {},
   "outputs": [
    {
     "data": {
      "text/plain": [
       "'There is no mention of a `SpamFilter` class in the provided code. The code implements a spam detection function (`make_predictions`) and integrates it into a Flask web application for both direct user interaction and API access.\\n'"
      ]
     },
     "execution_count": 25,
     "metadata": {},
     "output_type": "execute_result"
    }
   ],
   "source": [
    "result[\"answer\"]"
   ]
  },
  {
   "cell_type": "code",
   "execution_count": null,
   "id": "2aa4f4f6",
   "metadata": {},
   "outputs": [],
   "source": []
  }
 ],
 "metadata": {
  "kernelspec": {
   "display_name": "mediverse",
   "language": "python",
   "name": "python3"
  },
  "language_info": {
   "codemirror_mode": {
    "name": "ipython",
    "version": 3
   },
   "file_extension": ".py",
   "mimetype": "text/x-python",
   "name": "python",
   "nbconvert_exporter": "python",
   "pygments_lexer": "ipython3",
   "version": "3.10.16"
  }
 },
 "nbformat": 4,
 "nbformat_minor": 5
}
